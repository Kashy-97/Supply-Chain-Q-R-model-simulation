{
 "cells": [
  {
   "cell_type": "markdown",
   "id": "a02a629e",
   "metadata": {},
   "source": [
    "Supply, Demand and Flow constraints"
   ]
  },
  {
   "cell_type": "code",
   "execution_count": 90,
   "id": "d38e7877",
   "metadata": {},
   "outputs": [
    {
     "data": {
      "text/plain": [
       "1-dimensional DenseAxisArray{ConstraintRef{Model, MathOptInterface.ConstraintIndex{MathOptInterface.ScalarAffineFunction{Float64}, MathOptInterface.EqualTo{Float64}}, ScalarShape},1,...} with index sets:\n",
       "    Dimension 1, [1, 2, 3, 4, 5]\n",
       "And data, a 5-element Vector{ConstraintRef{Model, MathOptInterface.ConstraintIndex{MathOptInterface.ScalarAffineFunction{Float64}, MathOptInterface.EqualTo{Float64}}, ScalarShape}}:\n",
       " dem[1] : w[1,1] + w[2,1] + w[3,1] + w[4,1] + w[5,1] == 40.0\n",
       " dem[2] : w[1,2] + w[2,2] + w[3,2] + w[4,2] + w[5,2] == 70.0\n",
       " dem[3] : w[1,3] + w[2,3] + w[3,3] + w[4,3] + w[5,3] == 20.0\n",
       " dem[4] : w[1,4] + w[2,4] + w[3,4] + w[4,4] + w[5,4] == 11.0\n",
       " dem[5] : w[1,5] + w[2,5] + w[3,5] + w[4,5] + w[5,5] == 15.0"
      ]
     },
     "execution_count": 90,
     "metadata": {},
     "output_type": "execute_result"
    }
   ],
   "source": [
    "using JuMP, HiGHS, NamedArrays\n",
    "\n",
    "agency = [1 2 3 4 5] # 1-Cal,2-Sorange,3-Tyran,4-Ent,5-Fard0\n",
    "supply = Dict(zip( agency, [70 70 70 70 20] ))\n",
    "demand = Dict(zip( agency, [40 70 20 11 15] ))\n",
    "m = Model(HiGHS.Optimizer)\n",
    "@variable(m, W[1:5]>=0, Bin) #Warehouse flow\n",
    "@variable(m, X[1:5]>=0, Bin) #Factory open or closed\n",
    "@variable(m, x[agency,agency] >= 0) #material flow from factory to warehouse\n",
    "@variable(m, w[agency,agency] >= 0) #material flow from warehouse to client\n",
    "@constraint(m,X[1] == 1) # Factry open at calopia\n",
    "@constraint(m,W[1] == 1) # Warehouse open at calopia\n",
    "@constraint(m, sup[i in agency], sum(x[i,j] for j in agency) <= supply[i]*X[i] )   # supply constraint\n",
    "@expression(m, f_flow[j in agency], sum(x[i,j] for i in agency)) #factory flow\n",
    "@expression(m, wh_flow[j in agency], sum(w[j,k] for k in agency)) #warehouse flow\n",
    "@constraint(m,whcondition[i in agency,j in agency], w[i,j]<= 1000*W[j])\n",
    "@constraint(m,con[i in 1:5],f_flow[i]-wh_flow[i] == 0) #conserve flow\n",
    "@constraint(m, dem[k in agency], sum(w[j,k] for j in agency) == demand[k]) #meet demand"
   ]
  },
  {
   "cell_type": "markdown",
   "id": "c4f586d2",
   "metadata": {},
   "source": [
    "Flow cost"
   ]
  },
  {
   "cell_type": "code",
   "execution_count": 91,
   "id": "bd4e5709",
   "metadata": {},
   "outputs": [
    {
     "data": {
      "text/latex": [
       "$$ 1.575 x_{1,5} + 1.575 x_{2,5} + 1.575 x_{3,5} + 1.575 x_{4,5} $$"
      ],
      "text/plain": [
       "1.575 x[1,5] + 1.575 x[2,5] + 1.575 x[3,5] + 1.575 x[4,5]"
      ]
     },
     "execution_count": 91,
     "metadata": {},
     "output_type": "execute_result"
    }
   ],
   "source": [
    "@expression(m, fa, sum(X[i]*4000 for i in [2,3,4])) #Opening factory cost \n",
    "@expression(m, fa_at_fard, X[5]*1500) #Opening factory cost at Fardo\n",
    "@expression(m, fa_same, sum(x[i,i]*0.15/200 for i in agency)*700)\n",
    "@expression(m, fa_diff, sum(x[1,j]*0.20/200 for j in [2,3,4])*700)\n",
    "@expression(m, fa_fard, sum(x[i,5]*0.45/200 for i in [1,2,3,4])*700)"
   ]
  },
  {
   "cell_type": "code",
   "execution_count": 92,
   "id": "8768173c",
   "metadata": {
    "scrolled": true
   },
   "outputs": [
    {
     "data": {
      "text/latex": [
       "$$ 280 w_{1,5} + 280 w_{2,5} + 280 w_{3,5} + 280 w_{4,5} $$"
      ],
      "text/plain": [
       "280 w[1,5] + 280 w[2,5] + 280 w[3,5] + 280 w[4,5]"
      ]
     },
     "execution_count": 92,
     "metadata": {},
     "output_type": "execute_result"
    }
   ],
   "source": [
    "@expression(m, wh, sum(W[i]*100 for i in[2,3,4,5]))\n",
    "@expression(m, wh_same, sum(w[i,i]*0.15 for i in agency)*700)\n",
    "@expression(m, wh_diff, sum(w[1,j]*0.20 for j in [2,3,4])*700)\n",
    "@expression(m, wh_fard, sum(w[i,5]*0.40 for i in [1,2,3,4])*700)"
   ]
  },
  {
   "cell_type": "markdown",
   "id": "6ceb9656",
   "metadata": {},
   "source": [
    "Objective function - Minimize transportation cost"
   ]
  },
  {
   "cell_type": "code",
   "execution_count": 93,
   "id": "4e75377e",
   "metadata": {},
   "outputs": [
    {
     "name": "stdout",
     "output_type": "stream",
     "text": [
      "Running HiGHS 1.4.2 [date: 1970-01-01, git hash: f797c1ab6]\n",
      "Copyright (c) 2022 ERGO-Code under MIT licence terms\n",
      "Presolving model\n",
      "35 rows, 58 cols, 144 nonzeros\n",
      "15 rows, 54 cols, 104 nonzeros\n",
      "\n",
      "Solving MIP model with:\n",
      "   15 rows\n",
      "   54 cols (4 binary, 0 integer, 0 implied int., 50 continuous)\n",
      "   104 nonzeros\n",
      "\n",
      "        Nodes      |    B&B Tree     |            Objective Bounds              |  Dynamic Constraints |       Work      \n",
      "     Proc. InQueue |  Leaves   Expl. | BestBound       BestSol              Gap |   Cuts   InLp Confl. | LpIters     Time\n",
      "\n",
      "         0       0         0   0.00%   400             inf                  inf        0      0      0         0     0.0s\n",
      " S       0       0         0   0.00%   400             10037.125         96.01%        0      0      0         0     0.0s\n",
      " R       0       0         0   0.00%   6951.410714     9999.325          30.48%        0      0      0        26     0.0s\n",
      " B       0       0         0   0.00%   6951.410714     7529.075           7.67%       40      4      2        37     0.0s\n",
      "\n",
      "Solving report\n",
      "  Status            Optimal\n",
      "  Primal bound      7529.075\n",
      "  Dual bound        7529.075\n",
      "  Gap               0% (tolerance: 0.01%)\n",
      "  Solution status   feasible\n",
      "                    7529.075 (objective)\n",
      "                    0 (bound viol.)\n",
      "                    0 (int. viol.)\n",
      "                    0 (row viol.)\n",
      "  Timing            0.01 (total)\n",
      "                    0.00 (presolve)\n",
      "                    0.00 (postsolve)\n",
      "  Nodes             2\n",
      "  LP iterations     66 (total)\n",
      "                    20 (strong br.)\n",
      "                    5 (separation)\n",
      "                    6 (heuristics)\n"
     ]
    }
   ],
   "source": [
    "@objective(m, Min, fa+fa_at_fard+fa_fard+fa_same+fa_diff+wh+wh_same+wh_diff+wh_fard) # minimize transportation cost\n",
    "optimize!(m)"
   ]
  },
  {
   "cell_type": "markdown",
   "id": "c1d2fe01",
   "metadata": {},
   "source": [
    "Factories to be opened"
   ]
  },
  {
   "cell_type": "code",
   "execution_count": 94,
   "id": "32d4ca3f",
   "metadata": {},
   "outputs": [
    {
     "data": {
      "text/plain": [
       "5-element Vector{Float64}:\n",
       "  1.0\n",
       "  0.0\n",
       "  1.0\n",
       " -0.0\n",
       "  1.0"
      ]
     },
     "execution_count": 94,
     "metadata": {},
     "output_type": "execute_result"
    }
   ],
   "source": [
    "value.(X)"
   ]
  },
  {
   "cell_type": "markdown",
   "id": "1c13eba4",
   "metadata": {},
   "source": [
    "Warehouse to be opened"
   ]
  },
  {
   "cell_type": "code",
   "execution_count": 95,
   "id": "33532aa6",
   "metadata": {},
   "outputs": [
    {
     "data": {
      "text/plain": [
       "5-element Vector{Float64}:\n",
       " 1.0\n",
       " 1.0\n",
       " 1.0\n",
       " 1.0\n",
       " 1.0"
      ]
     },
     "execution_count": 95,
     "metadata": {},
     "output_type": "execute_result"
    }
   ],
   "source": [
    "value.(W)"
   ]
  },
  {
   "cell_type": "markdown",
   "id": "a7c2007f",
   "metadata": {},
   "source": [
    "Flow of each Factory"
   ]
  },
  {
   "cell_type": "code",
   "execution_count": 96,
   "id": "b7ea4f8c",
   "metadata": {},
   "outputs": [
    {
     "data": {
      "text/plain": [
       "2-dimensional DenseAxisArray{Float64,2,...} with index sets:\n",
       "    Dimension 1, [1, 2, 3, 4, 5]\n",
       "    Dimension 2, [1, 2, 3, 4, 5]\n",
       "And data, a 5×5 Matrix{Float64}:\n",
       " 0.0   0.0  11.0  55.0   0.0\n",
       " 0.0   0.0   0.0  -0.0   0.0\n",
       " 0.0  35.0   0.0  35.0   0.0\n",
       " 0.0   0.0   0.0   0.0   0.0\n",
       " 0.0   5.0   0.0   0.0  15.0"
      ]
     },
     "execution_count": 96,
     "metadata": {},
     "output_type": "execute_result"
    }
   ],
   "source": [
    "value.(x)"
   ]
  },
  {
   "cell_type": "markdown",
   "id": "c7f0573d",
   "metadata": {},
   "source": [
    "Flow of each Warehouse"
   ]
  },
  {
   "cell_type": "code",
   "execution_count": 97,
   "id": "b4366e38",
   "metadata": {},
   "outputs": [
    {
     "data": {
      "text/plain": [
       "2-dimensional DenseAxisArray{Float64,2,...} with index sets:\n",
       "    Dimension 1, [1, 2, 3, 4, 5]\n",
       "    Dimension 2, [1, 2, 3, 4, 5]\n",
       "And data, a 5×5 Matrix{Float64}:\n",
       " -0.0   0.0   0.0   0.0   0.0\n",
       " 40.0   0.0   0.0  -0.0   0.0\n",
       "  0.0  -0.0   0.0  11.0   0.0\n",
       " -0.0  70.0  20.0   0.0   0.0\n",
       "  0.0   0.0   0.0   0.0  15.0"
      ]
     },
     "execution_count": 97,
     "metadata": {},
     "output_type": "execute_result"
    }
   ],
   "source": [
    "value.(w)"
   ]
  }
 ],
 "metadata": {
  "kernelspec": {
   "display_name": "Python 3 (ipykernel)",
   "language": "python",
   "name": "python3"
  },
  "language_info": {
   "codemirror_mode": {
    "name": "ipython",
    "version": 3
   },
   "file_extension": ".py",
   "mimetype": "text/x-python",
   "name": "python",
   "nbconvert_exporter": "python",
   "pygments_lexer": "ipython3",
   "version": "3.9.7"
  }
 },
 "nbformat": 4,
 "nbformat_minor": 5
}
